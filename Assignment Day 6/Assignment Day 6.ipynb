{
 "cells": [
  {
   "cell_type": "markdown",
   "metadata": {},
   "source": [
    "# Question 1"
   ]
  },
  {
   "cell_type": "code",
   "execution_count": 1,
   "metadata": {
    "code_folding": []
   },
   "outputs": [
    {
     "name": "stdout",
     "output_type": "stream",
     "text": [
      "Enter the Email Address: john@google.com\n",
      "Output: google\n"
     ]
    }
   ],
   "source": [
    "# program to print the company name of a given email address.\n",
    "def print_company(st):\n",
    "    print(\"Output:\",st.split('@')[1].split('.')[0])\n",
    "\n",
    "print_company(input(\"Enter the Email Address: \"))"
   ]
  },
  {
   "cell_type": "markdown",
   "metadata": {},
   "source": [
    "# Question 2"
   ]
  },
  {
   "cell_type": "code",
   "execution_count": 2,
   "metadata": {},
   "outputs": [
    {
     "name": "stdout",
     "output_type": "stream",
     "text": [
      "Enter the words separated by comma: without,hello,bag,world\n",
      "Output: bag,hello,without,world\n"
     ]
    }
   ],
   "source": [
    "'''\n",
    "program that accepts a comma-separated sequence of words as input and prints the words in a comma\n",
    "separated sequence after sorting them alphabetically.\n",
    "'''\n",
    "w=input(\"Enter the words separated by comma: \")\n",
    "w=w.split(\",\")\n",
    "w=sorted(w)\n",
    "w=\",\".join(w)\n",
    "print(\"Output:\",w)"
   ]
  },
  {
   "cell_type": "markdown",
   "metadata": {},
   "source": [
    "# Question 4"
   ]
  },
  {
   "cell_type": "code",
   "execution_count": 3,
   "metadata": {},
   "outputs": [
    {
     "name": "stdout",
     "output_type": "stream",
     "text": [
      "Enter the numbers seperated by space: 1 2 4 6 3 7 8\n",
      "Output: 5\n"
     ]
    }
   ],
   "source": [
    "# Program: Given a list of n-1 numbers ranging from 1 to n, your task is to find the missing number. There are no duplicates.\n",
    "def missed(x):\n",
    "    y=x.count(\" \")\n",
    "    for i in range(y):\n",
    "        x.remove(\" \")\n",
    "    x=[int(i) for i in x]\n",
    "    x.sort()\n",
    "    n=len(x)\n",
    "    total=int((n+1)*(n+2)/2)\n",
    "    sum_x=sum(x)\n",
    "    return total-sum_x\n",
    "\n",
    "x=list(input(\"Enter the numbers seperated by space: \"))\n",
    "missing_number=missed(x)\n",
    "print(\"Output:\",missing_number)"
   ]
  },
  {
   "cell_type": "markdown",
   "metadata": {},
   "source": [
    "# Question 5"
   ]
  },
  {
   "cell_type": "code",
   "execution_count": 6,
   "metadata": {},
   "outputs": [
    {
     "name": "stdout",
     "output_type": "stream",
     "text": [
      "Enter elements in the list: 12 24 35 24 88 120 155 88 120 155\n",
      "Output: 12 24 35 88 120 155\n"
     ]
    }
   ],
   "source": [
    "# write a program to print this list L after removing all duplicate values with original order reserved.\n",
    "l1=input(\"Enter elements in the list: \").split()\n",
    "l2=[]\n",
    "for i in l1:\n",
    "    if i not in l2:\n",
    "        l2.append(i)\n",
    "print(\"Output:\",*l2)"
   ]
  }
 ],
 "metadata": {
  "kernelspec": {
   "display_name": "Python 3",
   "language": "python",
   "name": "python3"
  },
  "language_info": {
   "codemirror_mode": {
    "name": "ipython",
    "version": 3
   },
   "file_extension": ".py",
   "mimetype": "text/x-python",
   "name": "python",
   "nbconvert_exporter": "python",
   "pygments_lexer": "ipython3",
   "version": "3.7.6"
  }
 },
 "nbformat": 4,
 "nbformat_minor": 4
}

{
 "cells": [
  {
   "cell_type": "markdown",
   "metadata": {},
   "source": [
    "# Question 3\n",
    "# Sets"
   ]
  },
  {
   "cell_type": "markdown",
   "metadata": {},
   "source": [
    "A set is a collection which is unordered and unindexed.\n",
    "Sets are unordered, so you cannot be sure in which order the items will appear.\n",
    "\n",
    "We can't access items in a set by referring to an index,\n",
    "since sets are unordered the items has no index.\n",
    "\n",
    "We can loop through the set items using a 'for' loop,\n",
    "or ask if a specified value is present in a set, by using the 'in' keyword.\n",
    "\n",
    "Once a set is created, we cannot change its items, but we can add new items.\n",
    "\n",
    "To add one item to a set use the add() method.\n",
    "To add more than one item to a set use the update() method.\n",
    "\n",
    "To determine how many items a set has, use the len() method.\n",
    "\n",
    "To remove an item in a set, use the remove(), or the discard() method.\n",
    "If the item to remove does not exist, remove() will raise an error.\n",
    "If the item to remove does not exist, discard() will NOT raise an error.\n",
    "\n",
    "We can also use the pop(), method to remove an item, but this method will remove the last item.\n",
    "Remember that sets are unordered, so we will not know what item that gets removed.\n",
    "The return value of the pop() method is the removed item.\n",
    "\n",
    "The clear() method empties the set.\n",
    "The del keyword will delete the set completely.\n",
    "\n",
    "To join 2 Sets:\n",
    "We can use the union() method that returns a new set containing all items from both sets,\n",
    "or the update() method that inserts all the items from one set into another.\n",
    "Both union() and update() will exclude any duplicate items.\n",
    "\n",
    "Set can be created by using the set() constructor."
   ]
  },
  {
   "cell_type": "code",
   "execution_count": 4,
   "metadata": {},
   "outputs": [
    {
     "name": "stdout",
     "output_type": "stream",
     "text": [
      "{'abc', 'def', 1}\n"
     ]
    }
   ],
   "source": [
    "s = {\"abc\",\"def\",1}\n",
    "print(s)"
   ]
  },
  {
   "cell_type": "code",
   "execution_count": 6,
   "metadata": {},
   "outputs": [
    {
     "name": "stdout",
     "output_type": "stream",
     "text": [
      "abc def 1 "
     ]
    }
   ],
   "source": [
    "for i in s:\n",
    "    print(i,end=\" \")"
   ]
  },
  {
   "cell_type": "code",
   "execution_count": 9,
   "metadata": {},
   "outputs": [
    {
     "name": "stdout",
     "output_type": "stream",
     "text": [
      "True\n",
      "False\n"
     ]
    }
   ],
   "source": [
    "print(1 in s) # 1 is present\n",
    "print(2 in s) # 2 is absent"
   ]
  },
  {
   "cell_type": "code",
   "execution_count": 10,
   "metadata": {},
   "outputs": [
    {
     "name": "stdout",
     "output_type": "stream",
     "text": [
      "{'abc', 'xyz', 'def', 1}\n"
     ]
    }
   ],
   "source": [
    "s.add(\"xyz\")\n",
    "print(s)"
   ]
  },
  {
   "cell_type": "code",
   "execution_count": 12,
   "metadata": {},
   "outputs": [
    {
     "name": "stdout",
     "output_type": "stream",
     "text": [
      "{'abc', 1, 's', 'def', 'l', 'xyz', 'y', 'u'}\n"
     ]
    }
   ],
   "source": [
    "s.update(\"lu\",\"y\",\"ss\")\n",
    "print(s)"
   ]
  },
  {
   "cell_type": "code",
   "execution_count": 13,
   "metadata": {},
   "outputs": [
    {
     "name": "stdout",
     "output_type": "stream",
     "text": [
      "8\n"
     ]
    }
   ],
   "source": [
    "print(len(s))"
   ]
  },
  {
   "cell_type": "code",
   "execution_count": 14,
   "metadata": {},
   "outputs": [
    {
     "name": "stdout",
     "output_type": "stream",
     "text": [
      "{'abc', 1, 's', 'def', 'l', 'xyz', 'y'}\n"
     ]
    }
   ],
   "source": [
    "s.remove(\"u\")\n",
    "print(s)"
   ]
  },
  {
   "cell_type": "code",
   "execution_count": 17,
   "metadata": {},
   "outputs": [
    {
     "name": "stdout",
     "output_type": "stream",
     "text": [
      "{'abc', 1, 's', 'def', 'l', 'xyz'}\n"
     ]
    }
   ],
   "source": [
    "s.discard(\"y\")\n",
    "print(s)"
   ]
  },
  {
   "cell_type": "code",
   "execution_count": 18,
   "metadata": {},
   "outputs": [
    {
     "ename": "KeyError",
     "evalue": "'y'",
     "output_type": "error",
     "traceback": [
      "\u001b[1;31m---------------------------------------------------------------------------\u001b[0m",
      "\u001b[1;31mKeyError\u001b[0m                                  Traceback (most recent call last)",
      "\u001b[1;32m<ipython-input-18-4d8dfc2e62d3>\u001b[0m in \u001b[0;36m<module>\u001b[1;34m\u001b[0m\n\u001b[1;32m----> 1\u001b[1;33m \u001b[0ms\u001b[0m\u001b[1;33m.\u001b[0m\u001b[0mremove\u001b[0m\u001b[1;33m(\u001b[0m\u001b[1;34m\"y\"\u001b[0m\u001b[1;33m)\u001b[0m\u001b[1;33m\u001b[0m\u001b[1;33m\u001b[0m\u001b[0m\n\u001b[0m",
      "\u001b[1;31mKeyError\u001b[0m: 'y'"
     ]
    }
   ],
   "source": [
    "s.remove(\"y\") #gives error"
   ]
  },
  {
   "cell_type": "code",
   "execution_count": 20,
   "metadata": {},
   "outputs": [],
   "source": [
    "s.discard(\"y\") #no error"
   ]
  },
  {
   "cell_type": "code",
   "execution_count": 21,
   "metadata": {},
   "outputs": [
    {
     "name": "stdout",
     "output_type": "stream",
     "text": [
      "abc\n",
      "{1, 's', 'def', 'l', 'xyz'}\n"
     ]
    }
   ],
   "source": [
    "x=s.pop()\n",
    "print(x)\n",
    "print(s)"
   ]
  },
  {
   "cell_type": "code",
   "execution_count": 22,
   "metadata": {},
   "outputs": [
    {
     "name": "stdout",
     "output_type": "stream",
     "text": [
      "set()\n"
     ]
    }
   ],
   "source": [
    "s.clear()\n",
    "print(s)"
   ]
  },
  {
   "cell_type": "code",
   "execution_count": 24,
   "metadata": {},
   "outputs": [
    {
     "name": "stdout",
     "output_type": "stream",
     "text": [
      "{1, 2, 3, 4}\n"
     ]
    },
    {
     "ename": "NameError",
     "evalue": "name 's1' is not defined",
     "output_type": "error",
     "traceback": [
      "\u001b[1;31m---------------------------------------------------------------------------\u001b[0m",
      "\u001b[1;31mNameError\u001b[0m                                 Traceback (most recent call last)",
      "\u001b[1;32m<ipython-input-24-5233d470f35d>\u001b[0m in \u001b[0;36m<module>\u001b[1;34m\u001b[0m\n\u001b[0;32m      2\u001b[0m \u001b[0mprint\u001b[0m\u001b[1;33m(\u001b[0m\u001b[0ms1\u001b[0m\u001b[1;33m)\u001b[0m\u001b[1;33m\u001b[0m\u001b[1;33m\u001b[0m\u001b[0m\n\u001b[0;32m      3\u001b[0m \u001b[1;32mdel\u001b[0m \u001b[0ms1\u001b[0m\u001b[1;33m\u001b[0m\u001b[1;33m\u001b[0m\u001b[0m\n\u001b[1;32m----> 4\u001b[1;33m \u001b[0mprint\u001b[0m\u001b[1;33m(\u001b[0m\u001b[0ms1\u001b[0m\u001b[1;33m)\u001b[0m\u001b[1;33m\u001b[0m\u001b[1;33m\u001b[0m\u001b[0m\n\u001b[0m",
      "\u001b[1;31mNameError\u001b[0m: name 's1' is not defined"
     ]
    }
   ],
   "source": [
    "s1={1,2,3,4}\n",
    "print(s1)\n",
    "del s1\n",
    "print(s1) #raise an error due to file not exists"
   ]
  },
  {
   "cell_type": "code",
   "execution_count": 28,
   "metadata": {},
   "outputs": [
    {
     "name": "stdout",
     "output_type": "stream",
     "text": [
      "{2, 'a', 4, 6, 'h', 'x'}\n"
     ]
    }
   ],
   "source": [
    "s1 = {\"h\",\"x\",\"a\"}\n",
    "s2 = {6,2,4}\n",
    "s3 = s1.union(s2)\n",
    "print(s3)"
   ]
  },
  {
   "cell_type": "code",
   "execution_count": 29,
   "metadata": {},
   "outputs": [
    {
     "name": "stdout",
     "output_type": "stream",
     "text": [
      "{'h', 'a', 'x'}\n",
      "{2, 'a', 4, 6, 'h', 'x'}\n"
     ]
    }
   ],
   "source": [
    "print(s1)\n",
    "s1.update(s2)\n",
    "print(s1)"
   ]
  },
  {
   "cell_type": "code",
   "execution_count": 30,
   "metadata": {},
   "outputs": [
    {
     "name": "stdout",
     "output_type": "stream",
     "text": [
      "{'sss', 'cc', 'aaa'}\n"
     ]
    }
   ],
   "source": [
    "s4 = set((\"sss\", \"aaa\", \"cc\"))\n",
    "print(s4)"
   ]
  }
 ],
 "metadata": {
  "kernelspec": {
   "display_name": "Python 3",
   "language": "python",
   "name": "python3"
  },
  "language_info": {
   "codemirror_mode": {
    "name": "ipython",
    "version": 3
   },
   "file_extension": ".py",
   "mimetype": "text/x-python",
   "name": "python",
   "nbconvert_exporter": "python",
   "pygments_lexer": "ipython3",
   "version": "3.7.6"
  }
 },
 "nbformat": 4,
 "nbformat_minor": 4
}

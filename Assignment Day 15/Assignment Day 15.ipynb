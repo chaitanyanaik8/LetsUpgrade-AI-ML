{
 "cells": [
  {
   "cell_type": "markdown",
   "metadata": {},
   "source": [
    "# 1. Create a 3x3x3 array with random values"
   ]
  },
  {
   "cell_type": "code",
   "execution_count": 1,
   "metadata": {},
   "outputs": [
    {
     "name": "stdout",
     "output_type": "stream",
     "text": [
      "[[[0.76608378 0.47932732 0.03274448]\n",
      "  [0.5586764  0.84941682 0.60253779]\n",
      "  [0.03295641 0.48547595 0.69319694]]\n",
      "\n",
      " [[0.78890539 0.78175816 0.99493349]\n",
      "  [0.26691514 0.09302503 0.19341202]\n",
      "  [0.35727908 0.1355413  0.23620679]]\n",
      "\n",
      " [[0.5005846  0.21900288 0.12800981]\n",
      "  [0.97963497 0.10132726 0.62378792]\n",
      "  [0.53720129 0.86241453 0.80968624]]]\n"
     ]
    }
   ],
   "source": [
    "import numpy as np\n",
    "\n",
    "arr=np.random.random((3,3,3))\n",
    "print(arr)"
   ]
  },
  {
   "cell_type": "markdown",
   "metadata": {},
   "source": [
    "# 2.Create a 5x5 matrix with values 1,2,3,4 just below the diagonal"
   ]
  },
  {
   "cell_type": "code",
   "execution_count": 2,
   "metadata": {},
   "outputs": [
    {
     "name": "stdout",
     "output_type": "stream",
     "text": [
      "[[0 0 0 0 0]\n",
      " [1 0 0 0 0]\n",
      " [0 2 0 0 0]\n",
      " [0 0 3 0 0]\n",
      " [0 0 0 4 0]]\n"
     ]
    }
   ],
   "source": [
    "mat=np.diag(1+np.arange(4),k=-1)\n",
    "print(mat)"
   ]
  },
  {
   "cell_type": "markdown",
   "metadata": {},
   "source": [
    "# 3.Create a 8x8 matrix and fill it with a checkerboard pattern"
   ]
  },
  {
   "cell_type": "code",
   "execution_count": 3,
   "metadata": {},
   "outputs": [
    {
     "name": "stdout",
     "output_type": "stream",
     "text": [
      "[[0 1 0 1 0 1 0 1]\n",
      " [1 0 1 0 1 0 1 0]\n",
      " [0 1 0 1 0 1 0 1]\n",
      " [1 0 1 0 1 0 1 0]\n",
      " [0 1 0 1 0 1 0 1]\n",
      " [1 0 1 0 1 0 1 0]\n",
      " [0 1 0 1 0 1 0 1]\n",
      " [1 0 1 0 1 0 1 0]]\n"
     ]
    }
   ],
   "source": [
    "mat=np.zeros((8,8),dtype=int)\n",
    "mat[1::2,::2]=1\n",
    "mat[::2,1::2]=1\n",
    "print(mat)"
   ]
  },
  {
   "cell_type": "markdown",
   "metadata": {},
   "source": [
    "# 4. Normalize a 5x5 random matrix"
   ]
  },
  {
   "cell_type": "code",
   "execution_count": 4,
   "metadata": {},
   "outputs": [
    {
     "name": "stdout",
     "output_type": "stream",
     "text": [
      "Before Normalization\n",
      "\n",
      "[[0.6818235  0.70721857 0.11250979 0.4663252  0.44322914]\n",
      " [0.89825366 0.4731691  0.94802815 0.74572398 0.59558579]\n",
      " [0.97797823 0.90283072 0.82376351 0.67567271 0.24684164]\n",
      " [0.89627905 0.38604228 0.13002538 0.52879271 0.03093919]\n",
      " [0.33460545 0.71443676 0.87823668 0.9620208  0.33888994]]\n",
      "\n",
      "After Normalization\n",
      "\n",
      " [[0.6872835  0.71409873 0.08613224 0.45973395 0.4353463 ]\n",
      " [0.91581702 0.46696059 0.96837502 0.75475747 0.59622315]\n",
      " [1.         0.92065003 0.83716117 0.68078874 0.22797628]\n",
      " [0.91373198 0.37496141 0.10462735 0.52569481 0.        ]\n",
      " [0.32064808 0.72172058 0.89468063 0.98315018 0.32517218]]\n"
     ]
    }
   ],
   "source": [
    "mat=np.random.random((5,5))\n",
    "print(\"Before Normalization\\n\")\n",
    "print(mat)\n",
    "mat_max,mat_min=mat.max(),mat.min()\n",
    "mat=(mat-mat_min)/(mat_max-mat_min)\n",
    "print(\"\\nAfter Normalization\\n\\n\",mat)"
   ]
  },
  {
   "cell_type": "markdown",
   "metadata": {},
   "source": [
    "# 5. How to find common values between two arrays?"
   ]
  },
  {
   "cell_type": "code",
   "execution_count": 5,
   "metadata": {},
   "outputs": [
    {
     "name": "stdout",
     "output_type": "stream",
     "text": [
      "Array 1: [1 2 3 4 5]\n",
      "Array 2: [5, 10, 15, 2]\n",
      "The common values between two arrays are:\n",
      "[2 5]\n"
     ]
    }
   ],
   "source": [
    "arr1=np.array([1,2,3,4,5])\n",
    "print(\"Array 1:\",arr1)\n",
    "arr2=[5,10,15,2]\n",
    "print(\"Array 2:\",arr2)\n",
    "print(\"The common values between two arrays are:\")\n",
    "print(np.intersect1d(arr1, arr2))"
   ]
  },
  {
   "cell_type": "markdown",
   "metadata": {},
   "source": [
    "# 6.How to get the dates of yesterday, today and tomorrow?"
   ]
  },
  {
   "cell_type": "code",
   "execution_count": 6,
   "metadata": {},
   "outputs": [
    {
     "name": "stdout",
     "output_type": "stream",
     "text": [
      "Yesterday: 2020-07-26\n",
      "Today: 2020-07-27\n",
      "Tomorrow: 2020-07-28\n"
     ]
    }
   ],
   "source": [
    "yesterday=np.datetime64(\"today\",\"D\")-np.timedelta64(1,\"D\")\n",
    "print(\"Yesterday:\",yesterday)\n",
    "today=np.datetime64(\"today\",\"D\")\n",
    "print(\"Today:\",today)\n",
    "tomorrow=np.datetime64(\"today\",\"D\")+np.timedelta64(1,\"D\")\n",
    "print(\"Tomorrow:\",tomorrow)"
   ]
  },
  {
   "cell_type": "markdown",
   "metadata": {},
   "source": [
    "# 7. Consider two random array A and B, check if they are equal"
   ]
  },
  {
   "cell_type": "code",
   "execution_count": 7,
   "metadata": {},
   "outputs": [
    {
     "name": "stdout",
     "output_type": "stream",
     "text": [
      "Array A: [1 1]\n",
      "Array B: [0 0]\n",
      "Both the arrays are different\n"
     ]
    }
   ],
   "source": [
    "A=np.random.randint(0,2,2)\n",
    "B=np.random.randint(0,2,2)\n",
    "print(\"Array A:\",A)\n",
    "print(\"Array B:\",B)\n",
    "equal=np.allclose(A,B)\n",
    "if(equal==True):\n",
    "    print(\"Both the arrays are equal\")\n",
    "else:\n",
    "    print(\"Both the arrays are different\")"
   ]
  },
  {
   "cell_type": "markdown",
   "metadata": {},
   "source": [
    "# 8.Create random vector of size 10 and replace the maximum value by 0"
   ]
  },
  {
   "cell_type": "code",
   "execution_count": 8,
   "metadata": {},
   "outputs": [
    {
     "name": "stdout",
     "output_type": "stream",
     "text": [
      "Before replacing max value\n",
      "[0.59860961 0.82244006 0.08358487 0.33058871 0.45986826 0.32650558\n",
      " 0.74474898 0.83868951 0.09242036 0.71141657] \n",
      "\n",
      "After replacing max value\n",
      " [0.59860961 0.82244006 0.08358487 0.33058871 0.45986826 0.32650558\n",
      " 0.74474898 0.         0.09242036 0.71141657]\n"
     ]
    }
   ],
   "source": [
    "vec=np.random.random(10)\n",
    "print(\"Before replacing max value\")\n",
    "print(vec,\"\\n\")\n",
    "vec[vec.argmax()]=0\n",
    "print(\"After replacing max value\\n\",vec)"
   ]
  },
  {
   "cell_type": "markdown",
   "metadata": {},
   "source": [
    "# 9. How to print all the values of an array?"
   ]
  },
  {
   "cell_type": "code",
   "execution_count": 9,
   "metadata": {},
   "outputs": [
    {
     "name": "stdout",
     "output_type": "stream",
     "text": [
      "[[1. 1. 1.]\n",
      " [1. 1. 1.]\n",
      " [1. 1. 1.]]\n"
     ]
    }
   ],
   "source": [
    "arr=np.ones((3,3))\n",
    "print(arr)"
   ]
  },
  {
   "cell_type": "markdown",
   "metadata": {},
   "source": [
    "# 10.Subtract the mean of each row of a matrix"
   ]
  },
  {
   "cell_type": "code",
   "execution_count": 10,
   "metadata": {},
   "outputs": [
    {
     "name": "stdout",
     "output_type": "stream",
     "text": [
      "Original matrix:\n",
      "\n",
      "[[0.6004188  0.22449979 0.07964129 0.74412707 0.44117679]\n",
      " [0.48502813 0.94479638 0.85976237 0.69103165 0.3119741 ]\n",
      " [0.15756058 0.89900635 0.09205436 0.7847021  0.30373183]]\n",
      "\n",
      "After subtraction of the mean of each row of the matrix:\n",
      "\n",
      "[[ 0.18244605 -0.19347296 -0.33833146  0.32615432  0.02320405]\n",
      " [-0.17349039  0.28627786  0.20124384  0.03251312 -0.34654443]\n",
      " [-0.28985047  0.4515953  -0.35535668  0.33729106 -0.14367921]]\n"
     ]
    }
   ],
   "source": [
    "mat=np.random.rand(3,5)\n",
    "print(\"Original matrix:\\n\")\n",
    "print(mat)\n",
    "print(\"\\nAfter subtraction of the mean of each row of the matrix:\\n\")\n",
    "mat2=mat-mat.mean(axis=1,keepdims=True)\n",
    "print(mat2)"
   ]
  },
  {
   "cell_type": "markdown",
   "metadata": {},
   "source": [
    "# 11.Consider a given vector, how to add 1 to each element indexed by a second vector (be careful with repeated indices)?"
   ]
  },
  {
   "cell_type": "code",
   "execution_count": 11,
   "metadata": {},
   "outputs": [
    {
     "name": "stdout",
     "output_type": "stream",
     "text": [
      "[27 18 19 25]\n",
      "[20 28 26 19]\n"
     ]
    }
   ],
   "source": [
    "vec1=np.random.randint(10,30,4)\n",
    "print(vec1)\n",
    "vec2=[2,0,3,1]\n",
    "vec1=vec1[vec2]+1\n",
    "print(vec1)"
   ]
  },
  {
   "cell_type": "markdown",
   "metadata": {},
   "source": [
    "# 12.How to get the diagonal of a dot product?"
   ]
  },
  {
   "cell_type": "code",
   "execution_count": 12,
   "metadata": {},
   "outputs": [
    {
     "name": "stdout",
     "output_type": "stream",
     "text": [
      "Dot product:\n",
      " [[16  8]\n",
      " [22  6]]\n",
      "Diagonal of a dot product: [16  6]\n"
     ]
    }
   ],
   "source": [
    "x=[[3,2],[1,4]]\n",
    "y=[[2,2],[5,1]]\n",
    "print(\"Dot product:\\n\",np.dot(x,y))\n",
    "z=np.diag(np.dot(x,y))\n",
    "print(\"Diagonal of a dot product:\",z)"
   ]
  },
  {
   "cell_type": "markdown",
   "metadata": {},
   "source": [
    "# 13.How to find the most frequent value in an array?"
   ]
  },
  {
   "cell_type": "code",
   "execution_count": 13,
   "metadata": {},
   "outputs": [
    {
     "name": "stdout",
     "output_type": "stream",
     "text": [
      "[6 3 8 2 8 9 4 1 0 9 3 3 3 2 5 8 2 5 4 4 4 2 9 2 5 6 2 0 6 3 9 4 1 2 1 5 9\n",
      " 9 1 7 0 6 4 1 4 2 2 2 8 5]\n",
      "Most Frequent Value: 2\n"
     ]
    }
   ],
   "source": [
    "arr=np.random.randint(0,10,50)\n",
    "print(arr)\n",
    "print(\"Most Frequent Value:\",np.bincount(arr).argmax())"
   ]
  },
  {
   "cell_type": "markdown",
   "metadata": {},
   "source": [
    "# 14.How to get the n largest values of an array"
   ]
  },
  {
   "cell_type": "code",
   "execution_count": 14,
   "metadata": {},
   "outputs": [
    {
     "name": "stdout",
     "output_type": "stream",
     "text": [
      "Array: [1 6 5 0 3 8 9 4 7 2]\n",
      "The 3 largest values of the array are: [7 8 9]\n"
     ]
    }
   ],
   "source": [
    "arr=np.arange(10)\n",
    "np.random.shuffle(arr)\n",
    "print(\"Array:\",arr)\n",
    "n=3\n",
    "print(\"The\",n,\"largest values of the array are:\",arr[np.argsort(arr)[-n:]])"
   ]
  },
  {
   "cell_type": "markdown",
   "metadata": {},
   "source": [
    "# 15.How to create a record array from a regular array?"
   ]
  },
  {
   "cell_type": "code",
   "execution_count": 15,
   "metadata": {},
   "outputs": [
    {
     "name": "stdout",
     "output_type": "stream",
     "text": [
      "Regular Array:\n",
      " [['Hi' 'Hello' 'Namaste']\n",
      " ['How' 'Are' 'You']\n",
      " ['I' 'Am' 'Fine']] \n",
      "\n",
      "Record Array:\n",
      " [('Hi', 'Hello', 'Namaste') ('How', 'Are', 'You') ('I', 'Am', 'Fine')]\n"
     ]
    }
   ],
   "source": [
    "arr1=np.array([(\"Hi\",\"Hello\",\"Namaste\"),(\"How\",\"Are\",\"You\"),(\"I\",\"Am\",\"Fine\")])\n",
    "arr2=np.core.records.fromarrays(arr1.T,names='c1,c2,c3')\n",
    "print(\"Regular Array:\\n\",arr1,\"\\n\")\n",
    "print(\"Record Array:\\n\",arr2)"
   ]
  }
 ],
 "metadata": {
  "kernelspec": {
   "display_name": "Python 3",
   "language": "python",
   "name": "python3"
  },
  "language_info": {
   "codemirror_mode": {
    "name": "ipython",
    "version": 3
   },
   "file_extension": ".py",
   "mimetype": "text/x-python",
   "name": "python",
   "nbconvert_exporter": "python",
   "pygments_lexer": "ipython3",
   "version": "3.7.6"
  }
 },
 "nbformat": 4,
 "nbformat_minor": 4
}

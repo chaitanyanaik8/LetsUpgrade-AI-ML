{
 "cells": [
  {
   "cell_type": "markdown",
   "metadata": {},
   "source": [
    "# Question 1"
   ]
  },
  {
   "cell_type": "code",
   "execution_count": 38,
   "metadata": {},
   "outputs": [
    {
     "name": "stdout",
     "output_type": "stream",
     "text": [
      "The fourth root of 2 is 1.189207115002721\n"
     ]
    }
   ],
   "source": [
    "# program to find the fourth root of a number\n",
    "x= 2\n",
    "f= x ** (1.0/4) #fourth root caclculation\n",
    "print(\"The fourth root of\",x,\"is\",f)"
   ]
  },
  {
   "cell_type": "markdown",
   "metadata": {},
   "source": [
    "# Question 2"
   ]
  },
  {
   "cell_type": "code",
   "execution_count": 39,
   "metadata": {},
   "outputs": [
    {
     "name": "stdout",
     "output_type": "stream",
     "text": [
      "The subtraction of (5+4j) and (4-8j) is (1+12j)\n"
     ]
    }
   ],
   "source": [
    "# program to subtract 2 complex numbers\n",
    "a= 5+4j \n",
    "b= 4-8j \n",
    "c= a-b\n",
    "print(\"The subtraction of\",a,\"and\",b,\"is\",c)"
   ]
  },
  {
   "cell_type": "markdown",
   "metadata": {},
   "source": [
    "# Question 3"
   ]
  },
  {
   "cell_type": "code",
   "execution_count": 40,
   "metadata": {},
   "outputs": [
    {
     "name": "stdout",
     "output_type": "stream",
     "text": [
      "The numbers before swapping are a= 10 and b= 20\n",
      "The numbers after swapping are a= 20 and b= 10\n"
     ]
    }
   ],
   "source": [
    "# program to swap two numbers with a temporary variable\n",
    "a=10\n",
    "b=20\n",
    "print(\"The numbers before swapping are a=\",a,\"and b=\",b)\n",
    "temp=a\n",
    "a=b\n",
    "b=temp\n",
    "print(\"The numbers after swapping are a=\",a,\"and b=\",b)"
   ]
  },
  {
   "cell_type": "markdown",
   "metadata": {},
   "source": [
    "# Question 4"
   ]
  },
  {
   "cell_type": "code",
   "execution_count": 41,
   "metadata": {},
   "outputs": [
    {
     "name": "stdout",
     "output_type": "stream",
     "text": [
      "The numbers before swapping are x= 20 and y= 10\n",
      "The numbers before swapping are x= 10 and y= 20\n"
     ]
    }
   ],
   "source": [
    "# program to swap two numbers without a temporary variable\n",
    "x=20\n",
    "y=10\n",
    "print(\"The numbers before swapping are x=\",x,\"and y=\",y)\n",
    "x=x+y\n",
    "y=x-y\n",
    "x=x-y\n",
    "print(\"The numbers before swapping are x=\",x,\"and y=\",y)"
   ]
  },
  {
   "cell_type": "markdown",
   "metadata": {},
   "source": [
    "# Question 5"
   ]
  },
  {
   "cell_type": "code",
   "execution_count": 42,
   "metadata": {},
   "outputs": [
    {
     "name": "stdout",
     "output_type": "stream",
     "text": [
      "The Temperature in Fahrenheit is 104.22\n",
      "The Temperature 104.22 Fahrenheit in Celsius is 40.12222222222223\n",
      "The Temperature 104.22 Fahrenheit in Kelvin is 313.6222222222222\n"
     ]
    }
   ],
   "source": [
    "# program to convert fahrenheit to kelvin and celsius both\n",
    "fahrenheit=104.22\n",
    "print(\"The Temperature in Fahrenheit is\",fahrenheit)\n",
    "celsius= (fahrenheit - 32) * 5/9 #fahrenheit to celsius conversion\n",
    "print(\"The Temperature\",fahrenheit,\"Fahrenheit in Celsius is\",celsius)\n",
    "kelvin= 273.5 + ((fahrenheit - 32.0) * (5.0/9.0)) #fahrenheit to kelvin conversion\n",
    "print(\"The Temperature\",fahrenheit,\"Fahrenheit in Kelvin is\",kelvin)"
   ]
  },
  {
   "cell_type": "markdown",
   "metadata": {},
   "source": [
    "# Question 6"
   ]
  },
  {
   "cell_type": "code",
   "execution_count": 43,
   "metadata": {},
   "outputs": [
    {
     "name": "stdout",
     "output_type": "stream",
     "text": [
      "A = 5 is of type <class 'int'> \n",
      "\n",
      "A = 5.5 is of type <class 'float'> \n",
      "\n",
      "A = (2+5j) is of type <class 'complex'> \n",
      "\n",
      "A = LetsUpgrade is of type <class 'str'> \n",
      "\n",
      "A = [1, 2, 3, 4, 5, 6] is of type <class 'list'> \n",
      "\n",
      "A = ('abc', 2, 4, 'xyz') is of type <class 'tuple'> \n",
      "\n",
      "A = {1: 'a', 2: 'b', 3: 'c'} is of type <class 'dict'> \n",
      "\n",
      "A = {1, 2, 4, 8, 9} is of type <class 'set'> \n",
      "\n",
      "A = True is of type <class 'bool'>\n"
     ]
    }
   ],
   "source": [
    "# program to demonstrate all the available data types in Python\n",
    "A = 5\n",
    "print(\"A =\",A,\"is of type\",type(A),\"\\n\")\n",
    "\n",
    "A = 5.5\n",
    "print(\"A =\",A,\"is of type\",type(A),\"\\n\")\n",
    "\n",
    "A = 2+5j\n",
    "print(\"A =\",A,\"is of type\",type(A),\"\\n\")\n",
    "\n",
    "A = \"LetsUpgrade\"\n",
    "print(\"A =\",A,\"is of type\",type(A),\"\\n\")\n",
    "\n",
    "A = [1,2,3,4,5,6]\n",
    "print(\"A =\",A,\"is of type\",type(A),\"\\n\")\n",
    "\n",
    "A = (\"abc\",2,4,\"xyz\")\n",
    "print(\"A =\",A,\"is of type\",type(A),\"\\n\")\n",
    "\n",
    "A = {1:\"a\",2:\"b\",3:\"c\"}\n",
    "print(\"A =\",A,\"is of type\",type(A),\"\\n\")\n",
    "\n",
    "A = {9,8,2,1,4}\n",
    "print(\"A =\",A,\"is of type\",type(A),\"\\n\")\n",
    "\n",
    "A = True\n",
    "print(\"A =\",A,\"is of type\",type(A))"
   ]
  },
  {
   "cell_type": "markdown",
   "metadata": {},
   "source": [
    "# Question 7"
   ]
  },
  {
   "cell_type": "markdown",
   "metadata": {},
   "source": [
    "Steps discussed in the session by Dr. Darshan Ingle sir to create Github profile and upload Githubs Assignment link\n",
    "\n",
    "Step 1: Sign in or Sign up into Github.\n",
    "\n",
    "Step 2: Create a folder of specific day of assignment in computer and save the notebook in it.\n",
    "\n",
    "Step 3: Click on Create new Repository from your Github Homepage.\n",
    "\n",
    "Step 4: Name the Repository as LetsUpgrade AI/ML and let it be public and create it.\n",
    "\n",
    "Step 5: Click on upload an existing file link in the Repository.\n",
    "\n",
    "Step 6: Drag the folder of specific day from the computer which is to be uploaded in the area given.\n",
    "\n",
    "Step 7: After the folder gets uploaded just click on commit changes.\n",
    "\n",
    "Step 8: The folder is successfully uploaded into the Repository, now open the folder in Repository and copy the URL of it and simply paste it in the assignment submission google form of LetsUpgrade.\n",
    "\n",
    "Step 9: Check whether the link is public or not in incognito mode."
   ]
  }
 ],
 "metadata": {
  "kernelspec": {
   "display_name": "Python 3",
   "language": "python",
   "name": "python3"
  },
  "language_info": {
   "codemirror_mode": {
    "name": "ipython",
    "version": 3
   },
   "file_extension": ".py",
   "mimetype": "text/x-python",
   "name": "python",
   "nbconvert_exporter": "python",
   "pygments_lexer": "ipython3",
   "version": "3.7.6"
  }
 },
 "nbformat": 4,
 "nbformat_minor": 4
}

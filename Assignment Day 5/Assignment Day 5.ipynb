{
 "cells": [
  {
   "cell_type": "markdown",
   "metadata": {},
   "source": [
    "# Question 1"
   ]
  },
  {
   "cell_type": "code",
   "execution_count": 29,
   "metadata": {
    "code_folding": []
   },
   "outputs": [
    {
     "name": "stdout",
     "output_type": "stream",
     "text": [
      "The first 20 non-even prime natural numbers are:\n",
      "3 5 7 11 13 17 19 23 29 31 37 41 43 47 53 59 61 67 71 73 "
     ]
    }
   ],
   "source": [
    "# program to find the first 20 non-even prime natural numbers.\n",
    "n=100\n",
    "cnt=1\n",
    "i,j,flag=0,0,0\n",
    "print(\"The first 20 non-even prime natural numbers are:\")\n",
    "for i in range(3,n+1,1): \n",
    "    flag=1\n",
    "    for j in range(2,((i//2)+1),1): \n",
    "        if(i%j==0): \n",
    "            flag=0\n",
    "            break\n",
    "    if(cnt<=20):\n",
    "        if (flag==1): \n",
    "            print(i,end=\" \")\n",
    "            cnt=cnt+1"
   ]
  },
  {
   "cell_type": "markdown",
   "metadata": {},
   "source": [
    "# Question 2"
   ]
  },
  {
   "cell_type": "code",
   "execution_count": 30,
   "metadata": {},
   "outputs": [
    {
     "name": "stdout",
     "output_type": "stream",
     "text": [
      "2 - Count of alphabet 'l' in the string \n",
      "\n",
      "0 - The index of 'hello' in the string \n",
      "\n",
      "1 - The index of 'e' in the string \n",
      "\n",
      "True - Checks is the string lower or not \n",
      "\n",
      "HELLO MY NAME IS CHAITANYA - Converts to upper case \n",
      "\n",
      "False - Checks if it is a digit or not \n",
      "\n",
      "False - Checks if it is a decimal or not \n",
      "\n",
      "Hello my name is chaitanya - The first letter gets capitalized \n",
      "\n",
      "True - Checks if it is printable or not \n",
      "\n",
      "HELLO MY NAME IS CHAITANYA - Swaps the current case to the opposite \n",
      "\n",
      "True - Checks if the string ends with 'a' or not \n",
      "\n",
      "False - Checks if it is a whitespace string or not \n",
      "\n",
      "hello my main is chaitanya - Replaces the string 'name' with 'main' \n",
      "\n",
      "Hello My Name Is Chaitanya - Converts into a title cased string \n",
      "\n",
      "False - Checks if the string is alphabetical or not (here we have whitespaces so we get false o/p)\n"
     ]
    }
   ],
   "source": [
    "# program to implement 15 functions of string.\n",
    "st=\"hello my name is chaitanya\"\n",
    "\n",
    "print(st.count(\"l\"),\"- Count of alphabet 'l' in the string \\n\")\n",
    "\n",
    "print(st.find(\"hello\"),\"- The index of 'hello' in the string \\n\")\n",
    "\n",
    "print(st.index(\"e\"),\"- The index of 'e' in the string \\n\")\n",
    "\n",
    "print(st.islower(),\"- Checks is the string lower or not \\n\")\n",
    "\n",
    "print(st.upper(),\"- Converts to upper case \\n\")\n",
    "\n",
    "print(st.isdigit(),\"- Checks if it is a digit or not \\n\")\n",
    "\n",
    "print(st.isdecimal(),\"- Checks if it is a decimal or not \\n\")\n",
    "\n",
    "print(st.capitalize(),\"- The first letter gets capitalized \\n\")\n",
    "\n",
    "print(st.isprintable(),\"- Checks if it is printable or not \\n\")\n",
    "\n",
    "print(st.swapcase(),\"- Swaps the current case to the opposite \\n\")\n",
    "\n",
    "print(st.endswith(\"a\"),\"- Checks if the string ends with 'a' or not \\n\")\n",
    "\n",
    "print(st.isspace(),\"- Checks if it is a whitespace string or not \\n\")\n",
    "\n",
    "print(st.replace(\"name\",\"main\"),\"- Replaces the string 'name' with 'main' \\n\")\n",
    "\n",
    "print(st.title(),\"- Converts into a title cased string \\n\")\n",
    "\n",
    "print(st.isalpha(),\"- Checks if the string is alphabetical or not (here we have whitespaces so we get false o/p)\")"
   ]
  },
  {
   "cell_type": "markdown",
   "metadata": {},
   "source": [
    "# Question 3"
   ]
  },
  {
   "cell_type": "code",
   "execution_count": 31,
   "metadata": {},
   "outputs": [
    {
     "name": "stdout",
     "output_type": "stream",
     "text": [
      "Enter the String:madam\n",
      "Enter another String to check Anagram:madsb\n",
      "\n",
      "The 2 Strings madam and madsb are not Anagrams\n",
      "\n",
      "The Given String madam is a Palindrome\n"
     ]
    }
   ],
   "source": [
    "# program to check if the given string is a Palindrome or Anagram or None of them.\n",
    "a=input(\"Enter the String:\")\n",
    "b=input(\"Enter another String to check Anagram:\")\n",
    "if sorted(a)==sorted(b):\n",
    "    print(\"\\nThe 2 Strings\",a,\"and\",b,\"are Anagrams\")\n",
    "else:\n",
    "    print(\"\\nThe 2 Strings\",a,\"and\",b,\"are not Anagrams\")\n",
    "if a==a[::-1]:\n",
    "    print(\"\\nThe Given String\",a,\"is a Palindrome\")\n",
    "else:\n",
    "    print(\"\\nThe Given String\",a,\"is not a Palindrome\")"
   ]
  },
  {
   "cell_type": "markdown",
   "metadata": {},
   "source": [
    "# Question 4"
   ]
  },
  {
   "cell_type": "code",
   "execution_count": 32,
   "metadata": {},
   "outputs": [
    {
     "name": "stdout",
     "output_type": "stream",
     "text": [
      "Original String : Dr. Darshan Ingle @AI-ML Trainer\n",
      "Converted String : drdarshaningleaimltrainer\n"
     ]
    }
   ],
   "source": [
    "'''\n",
    "user defined function that removes all the additional characters from the string\n",
    "and converts it finally to lower case using built-in lower()\n",
    "'''\n",
    "def remove_add_chars(s):\n",
    "    sp_chars=['.',' ','`','~','!','@','#','?','$','%','^','&','*','(',')','_','-','+','=','{','[','}','}','|',':',';','\"','\\'','<','>']\n",
    "    print(\"Original String :\",s)\n",
    "    for i in sp_chars:\n",
    "        s=s.replace(i,'')\n",
    "    s=s.lower()\n",
    "    print (\"Converted String :\",s)\n",
    "\n",
    "remove_add_chars(\"Dr. Darshan Ingle @AI-ML Trainer\")"
   ]
  }
 ],
 "metadata": {
  "kernelspec": {
   "display_name": "Python 3",
   "language": "python",
   "name": "python3"
  },
  "language_info": {
   "codemirror_mode": {
    "name": "ipython",
    "version": 3
   },
   "file_extension": ".py",
   "mimetype": "text/x-python",
   "name": "python",
   "nbconvert_exporter": "python",
   "pygments_lexer": "ipython3",
   "version": "3.7.6"
  }
 },
 "nbformat": 4,
 "nbformat_minor": 4
}

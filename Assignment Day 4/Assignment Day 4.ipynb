{
 "cells": [
  {
   "cell_type": "markdown",
   "metadata": {},
   "source": [
    "# Question 1"
   ]
  },
  {
   "cell_type": "code",
   "execution_count": 47,
   "metadata": {},
   "outputs": [
    {
     "name": "stdout",
     "output_type": "stream",
     "text": [
      "Addition of (8+3j) and (5-9j) is (13-6j) \n",
      "\n",
      "Subtraction of (8+3j) and (5-9j) is (3+12j) \n",
      "\n",
      "Multiplication of (8+3j) and (5-9j) is (67-57j) \n",
      "\n",
      "Division of (8+3j) and (5-9j) is (0.12264150943396228+0.820754716981132j) \n",
      "\n"
     ]
    }
   ],
   "source": [
    "# program of operations on complex numbers.\n",
    "a= 8+3j \n",
    "b= 5-9j \n",
    "c= a+b\n",
    "d= a-b\n",
    "e= a*b\n",
    "f= a/b\n",
    "# g= a%b Gives TypeError: can't mod complex numbers. \n",
    "# h= a//b Gives TypeError: can't take floor of complex number.\n",
    "\n",
    "print(\"Addition of\",a,\"and\",b,\"is\",c,\"\\n\")\n",
    "print(\"Subtraction of\",a,\"and\",b,\"is\",d,\"\\n\")\n",
    "print(\"Multiplication of\",a,\"and\",b,\"is\",e,\"\\n\")\n",
    "print(\"Division of\",a,\"and\",b,\"is\",f,\"\\n\")\n",
    "# Modulus and Floor operators (% and //) are not allowed to be used on complex number in Python 3.x."
   ]
  },
  {
   "cell_type": "markdown",
   "metadata": {},
   "source": [
    "# Question 2"
   ]
  },
  {
   "cell_type": "markdown",
   "metadata": {},
   "source": [
    "range() function: The range() function is used to generate a sequence of numbers within a specific range given in parameter.\n",
    "\n",
    "ex.1 range(stop)- range(3): It generates a sequence of numbers to the range 3 i.e.(0-2),\n",
    "initially starting from 0 then 1 and at last 2.\n",
    "\n",
    "ex.2 range(start, stop)- range(3,6): It generates a sequence of numbers starting from 3 to 6 i.e.(3-5),\n",
    "starting from 3 then 4 and at last 5.\n",
    "\n",
    "ex.3 range(start, stop, stepsize)- range(3,9,2): It generates a sequence of numbers starting from 3 to 9 with interval(stepsize) between the number as 2 i.e.(3-9) with interval of 2, starting from 3 then 5 and at last 7."
   ]
  },
  {
   "cell_type": "code",
   "execution_count": 48,
   "metadata": {
    "code_folding": []
   },
   "outputs": [
    {
     "name": "stdout",
     "output_type": "stream",
     "text": [
      "Implementing range(stop):\n",
      "0 1 2 \n",
      "\n",
      "Implementing range(start,stop):\n",
      "3 4 5 \n",
      "\n",
      "Implementing range(start,stop,stepsize):\n",
      "3 5 7 "
     ]
    }
   ],
   "source": [
    "# program to implement range() function and its parameters.\n",
    "a= range(3)\n",
    "print(\"Implementing range(stop):\")\n",
    "for i in a:\n",
    "    print(i,end=\" \")\n",
    "\n",
    "b= range(3,6)\n",
    "print(\"\\n\")\n",
    "print(\"Implementing range(start,stop):\")\n",
    "for i in b:\n",
    "    print(i,end=\" \")\n",
    "\n",
    "c= range(3,9,2)\n",
    "print(\"\\n\")\n",
    "print(\"Implementing range(start,stop,stepsize):\")\n",
    "for i in c:\n",
    "    print(i,end=\" \")"
   ]
  },
  {
   "cell_type": "markdown",
   "metadata": {},
   "source": [
    "# Question 3"
   ]
  },
  {
   "cell_type": "code",
   "execution_count": 49,
   "metadata": {},
   "outputs": [
    {
     "name": "stdout",
     "output_type": "stream",
     "text": [
      "The Subtraction Result of 50 and 20 is 30 \n",
      "\n",
      "The Multiplication Result of 50 and 20 is 1000\n"
     ]
    }
   ],
   "source": [
    "# program of operation on 2 numbers (subtraction,multiplication/division)\n",
    "x=50\n",
    "y=20\n",
    "result=x-y\n",
    "print(\"The Subtraction Result of\",x,\"and\",y,\"is\",result,\"\\n\")\n",
    "if result>25:\n",
    "    print(\"The Multiplication Result of\",x,\"and\",y,\"is\",x*y)\n",
    "else:\n",
    "    print(\"The Division Result of\",x,\"and\",y,\"is\",x/y)"
   ]
  },
  {
   "cell_type": "markdown",
   "metadata": {},
   "source": [
    "# Question 4"
   ]
  },
  {
   "cell_type": "code",
   "execution_count": 50,
   "metadata": {},
   "outputs": [
    {
     "name": "stdout",
     "output_type": "stream",
     "text": [
      "Result (square of 2 minus 2) = 2\n",
      "Result (square of 4 minus 2) = 14\n",
      "Result (square of 6 minus 2) = 34\n",
      "Result (square of 8 minus 2) = 62\n",
      "Result (square of 10 minus 2) = 98\n"
     ]
    }
   ],
   "source": [
    "'''\n",
    "program to create a list of 10 elements of integer values.\n",
    "If the number in the list is divisible by 2, print the result as square of that number minus 2.\n",
    "'''\n",
    "l= [1,2,3,4,5,6,7,8,9,10]\n",
    "for i in l:\n",
    "    if i%2==0:\n",
    "        print(\"Result (square of\",i,\"minus 2) =\",(i*i)-2)"
   ]
  },
  {
   "cell_type": "markdown",
   "metadata": {},
   "source": [
    "# Question 5"
   ]
  },
  {
   "cell_type": "code",
   "execution_count": 51,
   "metadata": {},
   "outputs": [
    {
     "name": "stdout",
     "output_type": "stream",
     "text": [
      "Elements in the list which are greater than 7 when the number is divided 2 are:\n",
      "55 32 20 22 40 "
     ]
    }
   ],
   "source": [
    "'''\n",
    "program to create a list of 10 elements. print all the elements in the list which are greater than 7 when that\n",
    "number is divided 2.\n",
    "'''\n",
    "lis=[1,2,3,55,32,20,7,22,40,6]\n",
    "print(\"Elements in the list which are greater than 7 when the number is divided 2 are:\")\n",
    "for i in lis:\n",
    "    if(i/2)>7:\n",
    "        print(i,end=\" \")"
   ]
  }
 ],
 "metadata": {
  "kernelspec": {
   "display_name": "Python 3",
   "language": "python",
   "name": "python3"
  },
  "language_info": {
   "codemirror_mode": {
    "name": "ipython",
    "version": 3
   },
   "file_extension": ".py",
   "mimetype": "text/x-python",
   "name": "python",
   "nbconvert_exporter": "python",
   "pygments_lexer": "ipython3",
   "version": "3.7.6"
  }
 },
 "nbformat": 4,
 "nbformat_minor": 4
}
